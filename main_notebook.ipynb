{
 "cells": [
  {
   "cell_type": "markdown",
   "id": "27f751b4",
   "metadata": {},
   "source": [
    "# Primary Notebook\n",
    "\n",
    "## Purpose\n",
    "\n",
    "The purpose of this notebook is the creation of the clusters.\n",
    "Those (landscape) clusters are supposed to be areas similar in appearance;\n",
    "To be more precise, these clusters share a common \"FFT footprint\" which will be elaborated on later.\n",
    "\n",
    "## Other parts of this project\n",
    "\n",
    "There are secondary notebooks, that might have to be run beforehand, to receive data which this primary notebook will work upon."
   ]
  },
  {
   "cell_type": "code",
   "execution_count": null,
   "id": "3a574dd4",
   "metadata": {},
   "outputs": [],
   "source": [
    "# What we might need eventually\n",
    "# rasterio for geotiffs\n",
    "# dask array for parallel computing of large arrays\n",
    "# pyfftw for 2d fft "
   ]
  },
  {
   "cell_type": "markdown",
   "id": "4b2bb14b",
   "metadata": {},
   "source": [
    "## Overview of the classes and their interconnection\n",
    "The subject of this notebook is to cluster different landscapes across multiple DEM-GeoTIFFs. \n",
    "\n",
    "### GeographicBounds\n",
    "This is an object that saves West, South, East, North borders, as well as the projection, and maybe some other additional info.\n",
    "\n",
    "### AugmentedDEM\n",
    "This will be the \"container\" for all information regarding *one* specific DEM raster map.\n",
    "\n",
    "### EmbeddingMap\n",
    "This will be part of each AugmentedDEM. Here we will save the labels created by the clustering.\n",
    "\n",
    "\n"
   ]
  },
  {
   "cell_type": "markdown",
   "id": "485369e7",
   "metadata": {},
   "source": []
  },
  {
   "cell_type": "markdown",
   "id": "cc9a77bc",
   "metadata": {},
   "source": [
    "## How to make the GeoTIFF images usable by my algorithm:\n",
    "It’s important to note, that the original DEM data is in arc seconds. To avoid skewed results it has to be compressed by cos(latitude) in width.  That way the metric distances (almost) resemble the distances pixel-wise\n",
    "\n",
    "After that the images will be scaled to 1/4 (as of now), because processing becomes about 4^2 times faster.\n",
    "\n",
    "Before processing, the data will have to be split up into quadratic tiles which are supposed to be equal in their length.\n",
    "\n",
    "I guess we should combine the processes, namely selecting tiles of equal size and then reducing their size to a given size in pixels"
   ]
  },
  {
   "cell_type": "code",
   "execution_count": null,
   "id": "d7eaa0c8",
   "metadata": {},
   "outputs": [],
   "source": [
    "# Imports\n",
    "\n",
    "# Filesystem, JSON\n",
    "import os\n",
    "import json\n",
    "from io import BytesIO # To be able to route the API response to a file-like object that rasterio can use\n",
    "\n",
    "# Rasterio for handling GeoTIFFs\n",
    "import rasterio\n",
    "\n",
    "# Math may not be missing\n",
    "import math\n",
    "import numpy as np\n",
    "\n",
    "# Regex for updating filenames\n",
    "import re\n",
    "\n",
    "# For earth related numbers\n",
    "from pyproj import Geod\n",
    "geod = Geod(ellps=\"WGS84\")"
   ]
  },
  {
   "cell_type": "code",
   "execution_count": null,
   "id": "2cfba279",
   "metadata": {},
   "outputs": [],
   "source": [
    "# Define classes specific to this project \n",
    "\n",
    "class GeographicBounds:\n",
    "    def __init__(self, west, south, east, north):\n",
    "        self.west = west\n",
    "        self.north = north\n",
    "        self.east = east\n",
    "        self.south = south\n",
    "\n",
    "class AugmentedDEM:\n",
    "    def __init__(self, dem_path):\n",
    "        \n"
   ]
  },
  {
   "cell_type": "markdown",
   "id": "3e3d61b9",
   "metadata": {},
   "source": [
    "## Code to be refactored and integrated:"
   ]
  },
  {
   "cell_type": "code",
   "execution_count": null,
   "id": "448fb27e",
   "metadata": {},
   "outputs": [],
   "source": [
    "# Das hier muss noch ordentlich gemacht werden\n",
    "\n",
    "num_tiles_y = temporary_settings[\"dem_size_height\"] / internal_settings[\"fft\"][\"tile_size\"]\n",
    "print(num_tiles_y)\n",
    "\n",
    "relative_size_y = 1 / num_tiles_y\n",
    "print(relative_size_y)\n",
    "\n",
    "rest_tiles_y = num_tiles_y % 1;\n",
    "print(rest_tiles_y)\n",
    "\n",
    "relative_start_y = (rest_tiles_y / 2) / num_tiles_y\n",
    "print(relative_start_y)\n",
    "\n",
    "relative_end_y = 1 - relative_start_y\n",
    "\n",
    "firstrow_center = np.array([relative_start_y / 2])\n",
    "\n",
    "lastrow_center = np.array([1 - (relative_start_y / 2)])\n",
    "\n",
    "all_other_rows_center = np.linspace(relative_start_y + (relative_size_y / 2), relative_end_y - (relative_size_y / 2), math.floor(num_tiles_y), endpoint=True)\n",
    "\n",
    "internal_borders_y = np.linspace(relative_start_y, relative_end_y, math.ceil(num_tiles_y))\n",
    "all_borders_y = np.concatenate((np.array([0]),internal_borders_y,np.array([1])))\n",
    "\n",
    "\n",
    "allrows_centers = np.concatenate((firstrow_center, all_other_rows_center, lastrow_center))\n",
    "\n",
    "print(allrows_centers)\n"
   ]
  },
  {
   "cell_type": "code",
   "execution_count": null,
   "id": "b8a3d337",
   "metadata": {},
   "outputs": [],
   "source": [
    "# Testing\n",
    "np.interp(all_borders_y,[0,1],[internal_settings[\"geo\"][\"north\"],internal_settings[\"geo\"][\"south\"]])"
   ]
  },
  {
   "cell_type": "code",
   "execution_count": null,
   "id": "ef4e6c9b",
   "metadata": {},
   "outputs": [],
   "source": [
    "# Testing\n",
    "np.interp(allrows_centers,[0,1],[internal_settings[\"geo\"][\"north\"],internal_settings[\"geo\"][\"south\"]])"
   ]
  }
 ],
 "metadata": {
  "kernelspec": {
   "display_name": "base",
   "language": "python",
   "name": "python3"
  },
  "language_info": {
   "name": "python",
   "version": "3.12.7"
  }
 },
 "nbformat": 4,
 "nbformat_minor": 5
}
