{
 "cells": [
  {
   "cell_type": "markdown",
   "id": "27f751b4",
   "metadata": {},
   "source": [
    "# Primary Notebook\n",
    "\n",
    "## Purpose\n",
    "\n",
    "The purpose of this notebook is the creation of the clusters.\n",
    "Those (landscape) clusters are supposed to be areas similar in appearance;\n",
    "To be more precise, these clusters share a common \"FFT footprint\" which will be elaborated on later.\n",
    "\n",
    "## Other parts of this project\n",
    "\n",
    "There are secondary notebooks, that might have to be run beforehand, to receive data which this primary notebook will work upon."
   ]
  },
  {
   "cell_type": "code",
   "execution_count": null,
   "id": "3a574dd4",
   "metadata": {},
   "outputs": [],
   "source": []
  }
 ],
 "metadata": {
  "language_info": {
   "name": "python"
  }
 },
 "nbformat": 4,
 "nbformat_minor": 5
}
