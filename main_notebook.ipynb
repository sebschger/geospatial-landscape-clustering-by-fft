{
 "cells": [
  {
   "cell_type": "markdown",
   "id": "27f751b4",
   "metadata": {},
   "source": [
    "# Primary Notebook\n",
    "\n",
    "## Purpose\n",
    "\n",
    "The purpose of this notebook is the creation of the clusters.\n",
    "Those (landscape) clusters are supposed to be areas similar in appearance;\n",
    "To be more precise, these clusters share a common \"FFT footprint\" which will be elaborated on later.\n",
    "\n",
    "## Other parts of this project\n",
    "\n",
    "There are secondary notebooks, that might have to be run beforehand, to receive data which this primary notebook will work upon."
   ]
  },
  {
   "cell_type": "code",
   "execution_count": 1,
   "id": "3a574dd4",
   "metadata": {},
   "outputs": [],
   "source": [
    "# What we might need eventually\n",
    "# rasterio for geotiffs\n",
    "# dask array for parallel computing of large arrays\n",
    "# pyfftw for 2d fft "
   ]
  },
  {
   "cell_type": "markdown",
   "id": "4b2bb14b",
   "metadata": {},
   "source": [
    "## Overview of the classes and their interconnection\n",
    "The subject of this notebook is to cluster different landscapes across multiple DEM-GeoTIFFs. \n",
    "\n",
    "### GeographicBounds\n",
    "This is an object that saves West, South, East, North borders, as well as the projection, and maybe some other additional info.\n",
    "\n",
    "### AugmentedDEM\n",
    "This will be the \"container\" for all information regarding *one* specific DEM raster map.\n",
    "\n",
    "### EmbeddingMap\n",
    "This will be part of each AugmentedDEM. Here we will save the labels created by the clustering.\n",
    "\n",
    "\n"
   ]
  },
  {
   "cell_type": "markdown",
   "id": "485369e7",
   "metadata": {},
   "source": []
  },
  {
   "cell_type": "markdown",
   "id": "cc9a77bc",
   "metadata": {},
   "source": [
    "## How to make the GeoTIFF images usable by my algorithm:\n",
    "It’s important to note, that the original DEM data is in arc seconds. To avoid skewed results it has to be compressed by cos(latitude) in width.  That way the metric distances (almost) resemble the distances pixel-wise\n",
    "\n",
    "After that the images will be scaled to 1/4 (as of now), because processing becomes about 4^2 times faster.\n",
    "\n",
    "Before processing, the data will have to be split up into quadratic tiles which are supposed to be equal in their length.\n",
    "\n",
    "I guess we should combine the processes, namely selecting tiles of equal size and then reducing their size to a given size in pixels"
   ]
  },
  {
   "cell_type": "code",
   "execution_count": 2,
   "id": "d7eaa0c8",
   "metadata": {},
   "outputs": [],
   "source": [
    "# Imports\n",
    "\n",
    "# Filesystem, JSON\n",
    "import os\n",
    "import json\n",
    "from io import BytesIO # To be able to route the API response to a file-like object that rasterio can use\n",
    "\n",
    "# Rasterio for handling GeoTIFFs\n",
    "import rasterio\n",
    "\n",
    "# Math may not be missing\n",
    "import math\n",
    "import numpy as np\n",
    "\n",
    "# Regex for updating filenames\n",
    "import re\n",
    "\n",
    "# For earth related numbers\n",
    "from pyproj import Geod\n",
    "geod = Geod(ellps=\"WGS84\")"
   ]
  },
  {
   "cell_type": "code",
   "execution_count": 3,
   "id": "4ddca61c",
   "metadata": {},
   "outputs": [],
   "source": [
    "# Settings for running this Notebook\n",
    "\n",
    "internal_settings = {}\n",
    "\n",
    "internal_settings[\"files\"] = {}\n",
    "internal_settings[\"files\"][\"dem_folder\"] = \"geotiffs\" #Here the to-be-used-geotiffs are located\n",
    "\n",
    "\n",
    "temporary_settings = {}\n",
    "temporary_settings[\"augmented_dems\"] = []"
   ]
  },
  {
   "cell_type": "code",
   "execution_count": 4,
   "id": "2cfba279",
   "metadata": {},
   "outputs": [],
   "source": [
    "# Define classes specific to this project \n",
    "\n",
    "# This class is supposed to store coordinates for tiles and maybe coordinate systems in the future\n",
    "class GeographicBounds:\n",
    "    def __init__(self, west, south, east, north):\n",
    "        self.west = west\n",
    "        self.north = north\n",
    "        self.east = east\n",
    "        self.south = south\n",
    "\n",
    "    # Return information about the object (for to be used in a print statement for example)\n",
    "    def __str__(self):\n",
    "        return f\"Geographic Bounds (rounded):\\nWest: {self.west:>8.2f}° \\nSouth: {self.south:>7.2f}° \\nEast: {self.east:>8.2f}° \\nNorth: {self.north:>7.2f}°\"\n",
    "    \n",
    "    def as_list(self):\n",
    "        return [self.west, self.south, self.east, self.north]\n",
    "\n",
    "\n",
    "class AugmentedDEM:\n",
    "    def __init__(self, dem_path):\n",
    "        with rasterio.open(dem_path) as dem_file:\n",
    "            self.geo_bounds = GeographicBounds(dem_file.bounds.left, \n",
    "                                               dem_file.bounds.bottom,\n",
    "                                               dem_file.bounds.right,\n",
    "                                               dem_file.bounds.top)\n",
    "        self.dem_path = dem_path\n",
    "\n"
   ]
  },
  {
   "cell_type": "code",
   "execution_count": 5,
   "id": "95edbef8",
   "metadata": {},
   "outputs": [],
   "source": [
    "# Put all the DEM maps from the dem_folder into the dem_files\n",
    "with os.scandir(internal_settings[\"files\"][\"dem_folder\"]) as dirlist:\n",
    "    temporary_settings[\"augmented_dems\"] =[AugmentedDEM(d.path) for d in dirlist if re.search(r\"\\.tif\",d.name)]\n",
    "\n"
   ]
  },
  {
   "cell_type": "code",
   "execution_count": 6,
   "id": "b3726fa9",
   "metadata": {},
   "outputs": [
    {
     "name": "stdout",
     "output_type": "stream",
     "text": [
      "Geographic Bounds (rounded):\n",
      "West:     6.50° \n",
      "South:   46.93° \n",
      "East:     8.60° \n",
      "North:   48.02°\n",
      "Geographic Bounds (rounded):\n",
      "West:    -7.14° \n",
      "South:   55.20° \n",
      "East:    -3.73° \n",
      "North:   56.80°\n"
     ]
    }
   ],
   "source": [
    "# Testing\n",
    "for d in temporary_settings[\"augmented_dems\"]:\n",
    "    print(d.geo_bounds)"
   ]
  },
  {
   "cell_type": "markdown",
   "id": "3e3d61b9",
   "metadata": {},
   "source": [
    "## Code to be refactored and integrated:"
   ]
  },
  {
   "cell_type": "code",
   "execution_count": 7,
   "id": "448fb27e",
   "metadata": {},
   "outputs": [
    {
     "ename": "KeyError",
     "evalue": "'dem_size_height'",
     "output_type": "error",
     "traceback": [
      "\u001b[0;31m---------------------------------------------------------------------------\u001b[0m",
      "\u001b[0;31mKeyError\u001b[0m                                  Traceback (most recent call last)",
      "Cell \u001b[0;32mIn[7], line 3\u001b[0m\n\u001b[1;32m      1\u001b[0m \u001b[38;5;66;03m# Das hier muss noch ordentlich gemacht werden\u001b[39;00m\n\u001b[0;32m----> 3\u001b[0m num_tiles_y \u001b[38;5;241m=\u001b[39m temporary_settings[\u001b[38;5;124m\"\u001b[39m\u001b[38;5;124mdem_size_height\u001b[39m\u001b[38;5;124m\"\u001b[39m] \u001b[38;5;241m/\u001b[39m internal_settings[\u001b[38;5;124m\"\u001b[39m\u001b[38;5;124mfft\u001b[39m\u001b[38;5;124m\"\u001b[39m][\u001b[38;5;124m\"\u001b[39m\u001b[38;5;124mtile_size\u001b[39m\u001b[38;5;124m\"\u001b[39m]\n\u001b[1;32m      4\u001b[0m \u001b[38;5;28mprint\u001b[39m(num_tiles_y)\n\u001b[1;32m      6\u001b[0m relative_size_y \u001b[38;5;241m=\u001b[39m \u001b[38;5;241m1\u001b[39m \u001b[38;5;241m/\u001b[39m num_tiles_y\n",
      "\u001b[0;31mKeyError\u001b[0m: 'dem_size_height'"
     ]
    }
   ],
   "source": [
    "# Das hier muss noch ordentlich gemacht werden\n",
    "\n",
    "num_tiles_y = temporary_settings[\"dem_size_height\"] / internal_settings[\"fft\"][\"tile_size\"]\n",
    "print(num_tiles_y)\n",
    "\n",
    "relative_size_y = 1 / num_tiles_y\n",
    "print(relative_size_y)\n",
    "\n",
    "rest_tiles_y = num_tiles_y % 1;\n",
    "print(rest_tiles_y)\n",
    "\n",
    "relative_start_y = (rest_tiles_y / 2) / num_tiles_y\n",
    "print(relative_start_y)\n",
    "\n",
    "relative_end_y = 1 - relative_start_y\n",
    "\n",
    "firstrow_center = np.array([relative_start_y / 2])\n",
    "\n",
    "lastrow_center = np.array([1 - (relative_start_y / 2)])\n",
    "\n",
    "all_other_rows_center = np.linspace(relative_start_y + (relative_size_y / 2), relative_end_y - (relative_size_y / 2), math.floor(num_tiles_y), endpoint=True)\n",
    "\n",
    "internal_borders_y = np.linspace(relative_start_y, relative_end_y, math.ceil(num_tiles_y))\n",
    "all_borders_y = np.concatenate((np.array([0]),internal_borders_y,np.array([1])))\n",
    "\n",
    "\n",
    "allrows_centers = np.concatenate((firstrow_center, all_other_rows_center, lastrow_center))\n",
    "\n",
    "print(allrows_centers)\n"
   ]
  },
  {
   "cell_type": "code",
   "execution_count": null,
   "id": "b8a3d337",
   "metadata": {},
   "outputs": [],
   "source": [
    "# Testing\n",
    "np.interp(all_borders_y,[0,1],[internal_settings[\"geo\"][\"north\"],internal_settings[\"geo\"][\"south\"]])"
   ]
  },
  {
   "cell_type": "code",
   "execution_count": null,
   "id": "ef4e6c9b",
   "metadata": {},
   "outputs": [],
   "source": [
    "# Testing\n",
    "np.interp(allrows_centers,[0,1],[internal_settings[\"geo\"][\"north\"],internal_settings[\"geo\"][\"south\"]])"
   ]
  }
 ],
 "metadata": {
  "kernelspec": {
   "display_name": "base",
   "language": "python",
   "name": "python3"
  },
  "language_info": {
   "codemirror_mode": {
    "name": "ipython",
    "version": 3
   },
   "file_extension": ".py",
   "mimetype": "text/x-python",
   "name": "python",
   "nbconvert_exporter": "python",
   "pygments_lexer": "ipython3",
   "version": "3.12.7"
  }
 },
 "nbformat": 4,
 "nbformat_minor": 5
}
