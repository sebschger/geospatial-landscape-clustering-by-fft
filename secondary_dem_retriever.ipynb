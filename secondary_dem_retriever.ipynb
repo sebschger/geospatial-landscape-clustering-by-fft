{
 "cells": [
  {
   "cell_type": "markdown",
   "id": "2316046b",
   "metadata": {},
   "source": [
    "# DEM Retriever\n",
    "\n",
    "This notebook is a secondary notebook, supposed to get the digital elevation model from opentopography.org\n",
    "\n",
    "## Getting DEM-Data from [opentopography](https://portal.opentopography.org/apidocs/#/Public/getGlobalDem)\n",
    "To run this notebook you will need a (free) API key from *opentopography.org*. \n",
    "I’ve got myself one and put it into the environment variables."
   ]
  },
  {
   "cell_type": "code",
   "execution_count": 1,
   "id": "d98255b8",
   "metadata": {},
   "outputs": [],
   "source": [
    "# All the imports\n",
    "\n",
    "# For getting the DEM-Data (from opentopography.org) \n",
    "import requests\n",
    "\n",
    "# Handling the API-Key (hidden from this repo)\n",
    "from dotenv import load_dotenv\n",
    "\n",
    "# Filesystem, JSON\n",
    "import os\n",
    "import json"
   ]
  },
  {
   "cell_type": "code",
   "execution_count": 2,
   "id": "dee984c5",
   "metadata": {},
   "outputs": [],
   "source": [
    "# Let this notebook load the API key from the .env file\n",
    "load_dotenv()\n",
    "\n",
    "# Create a dictionary for settings that are not saved\n",
    "external_settings = {}\n",
    "external_settings[\"opentopo_api_key\"] = os.getenv(\"OPENTOPO_API_KEY\")"
   ]
  },
  {
   "cell_type": "markdown",
   "id": "87d5b9ff",
   "metadata": {},
   "source": [
    "### Hint: API Key\n",
    "If you want to use your own API-Key, you’ll have to assign it in the following code block. Remember: You will have to get your own API key from opentopography.org to make this work."
   ]
  },
  {
   "cell_type": "code",
   "execution_count": 3,
   "id": "d3156870",
   "metadata": {},
   "outputs": [
    {
     "name": "stdout",
     "output_type": "stream",
     "text": [
      "352c27c644b3a6e0132002d187f75a57\n"
     ]
    }
   ],
   "source": [
    "\n",
    "# Hint! If you want to use your own API-Key, you’ll have to assign it here:\n",
    "# external_settings[\"opentopo_api_key\"]\n",
    "\n",
    "print(external_settings[\"opentopo_api_key\"])"
   ]
  },
  {
   "cell_type": "markdown",
   "id": "4e5c2743",
   "metadata": {},
   "source": [
    "## Getting the DEM-Data\n",
    "For this example we’ll use the EU_DTM dataset which is very accurate for europe and resembles bare earth heights."
   ]
  },
  {
   "cell_type": "code",
   "execution_count": 13,
   "id": "b83ee1bf",
   "metadata": {},
   "outputs": [],
   "source": [
    "# Create a variable for settings that can later be saved as a JSON-file\n",
    "internal_settings = {}\n",
    "\n",
    "internal_settings[\"geo\"] = {}\n",
    "internal_settings[\"geo\"][\"demtype\"] = \"COP90\"\n",
    "internal_settings[\"geo\"][\"south\"] = 46.93\n",
    "internal_settings[\"geo\"][\"north\"] = 48.02\n",
    "internal_settings[\"geo\"][\"west\"] = 6.5\n",
    "internal_settings[\"geo\"][\"east\"] = 8.6\n",
    "internal_settings[\"geo\"][\"outputFormat\"] = \"GTiff\"\n",
    "\n",
    "internal_settings[\"files\"] = {}\n",
    "internal_settings[\"files\"][\"intermediary_folder\"] = \"intermediary\"\n",
    "internal_settings[\"files\"][\"geotiff\"] = \"geotiff.tif\" # Important: Geotiffs have to have the extension \"TIF\" to be readable by google earth pro...x\n"
   ]
  },
  {
   "cell_type": "code",
   "execution_count": 9,
   "id": "235d5769",
   "metadata": {},
   "outputs": [],
   "source": [
    "# Get the API key into the request data\n",
    "api_call_data = json.loads(json.dumps(internal_settings[\"geo\"]))\n",
    "api_call_data.update({\"API_Key\": external_settings[\"opentopo_api_key\"]})\n"
   ]
  },
  {
   "cell_type": "code",
   "execution_count": 10,
   "id": "9e7c9640",
   "metadata": {},
   "outputs": [],
   "source": [
    "temp = requests.get(\"https://portal.opentopography.org/API/globaldem\", params=api_call_data)\n"
   ]
  },
  {
   "cell_type": "code",
   "execution_count": 14,
   "id": "aee0da7c",
   "metadata": {},
   "outputs": [],
   "source": [
    "with open(os.path.join(internal_settings[\"files\"][\"intermediary_folder\"], \n",
    "                       internal_settings[\"files\"][\"geotiff\"]), \"wb\") as file:\n",
    "    file.write(temp.content)"
   ]
  },
  {
   "cell_type": "code",
   "execution_count": null,
   "id": "75db2915",
   "metadata": {},
   "outputs": [],
   "source": []
  },
  {
   "cell_type": "code",
   "execution_count": null,
   "id": "1e854f6b",
   "metadata": {},
   "outputs": [],
   "source": []
  }
 ],
 "metadata": {
  "kernelspec": {
   "display_name": "base",
   "language": "python",
   "name": "python3"
  },
  "language_info": {
   "codemirror_mode": {
    "name": "ipython",
    "version": 3
   },
   "file_extension": ".py",
   "mimetype": "text/x-python",
   "name": "python",
   "nbconvert_exporter": "python",
   "pygments_lexer": "ipython3",
   "version": "3.12.7"
  }
 },
 "nbformat": 4,
 "nbformat_minor": 5
}
