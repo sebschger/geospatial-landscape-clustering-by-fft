{
 "cells": [
  {
   "cell_type": "markdown",
   "id": "2316046b",
   "metadata": {},
   "source": [
    "# DEM Retriever\n",
    "\n",
    "This notebook is a secondary notebook, supposed to get the digital elevation model from opentopography.org\n",
    "\n",
    "## Getting DEM-Data from [opentopography](https://portal.opentopography.org/apidocs/#/Public/getGlobalDem)\n",
    "To run this notebook you will need a (free) API key from *opentopography.org*. \n",
    "I’ve got myself one and put it into the environment variables."
   ]
  },
  {
   "cell_type": "code",
   "execution_count": 60,
   "id": "d98255b8",
   "metadata": {},
   "outputs": [],
   "source": [
    "# All the imports\n",
    "\n",
    "# For getting the DEM-Data (from opentopography.org) \n",
    "import requests\n",
    "\n",
    "# Handling the API-Key (hidden from this repo)\n",
    "from dotenv import load_dotenv\n",
    "\n",
    "# Filesystem, JSON\n",
    "import os\n",
    "import json\n",
    "from io import BytesIO # To be able to route the API response to a file-like object that rasterio can use\n",
    "\n",
    "# Rasterio for handling GeoTIFFs\n",
    "import rasterio\n",
    "\n",
    "# Math may not be missing\n",
    "import math\n",
    "import numpy as np\n",
    "\n",
    "# Regex for updating filenames\n",
    "import re\n",
    "\n",
    "# For earth related numbers\n",
    "from pyproj import Geod\n",
    "geod = Geod(ellps=\"WGS84\")\n",
    "\n",
    "# print(f\"Equatorial radius (a): {geod.a / 1000:.1f} km\")  # 6378.1 km\n",
    "# print(f\"Polar radius (b): {geod.b / 1000:.1f} km\")      # 6356.8 km\n",
    "\n"
   ]
  },
  {
   "cell_type": "code",
   "execution_count": 2,
   "id": "dee984c5",
   "metadata": {},
   "outputs": [],
   "source": [
    "# Let this notebook load the API key from the .env file\n",
    "load_dotenv()\n",
    "\n",
    "# Create a dictionary for settings that are not saved\n",
    "external_settings = {}\n",
    "external_settings[\"opentopo_api_key\"] = os.getenv(\"OPENTOPO_API_KEY\")"
   ]
  },
  {
   "cell_type": "markdown",
   "id": "87d5b9ff",
   "metadata": {},
   "source": [
    "### Hint: API Key\n",
    "If you want to use your own API-Key, you’ll have to assign it in the following code block. Remember: You will have to get your own API key from opentopography.org to make this work."
   ]
  },
  {
   "cell_type": "code",
   "execution_count": 12,
   "id": "d3156870",
   "metadata": {},
   "outputs": [],
   "source": [
    "\n",
    "# Hint! If you want to use your own API-Key, you’ll have to assign it here:\n",
    "# external_settings[\"opentopo_api_key\"]"
   ]
  },
  {
   "cell_type": "markdown",
   "id": "4e5c2743",
   "metadata": {},
   "source": [
    "## Getting the DEM-Data\n",
    "For this example we’ll use the EU_DTM dataset which is very accurate for europe and resembles bare earth heights."
   ]
  },
  {
   "cell_type": "code",
   "execution_count": null,
   "id": "b83ee1bf",
   "metadata": {},
   "outputs": [],
   "source": [
    "# Create a variable for settings that can later be saved as a JSON-file\n",
    "internal_settings = {}\n",
    "\n",
    "internal_settings[\"geo\"] = {}\n",
    "internal_settings[\"geo\"][\"demtype\"] = \"COP90\"\n",
    "internal_settings[\"geo\"][\"west\"] = 6.5\n",
    "internal_settings[\"geo\"][\"south\"] = 46.93\n",
    "internal_settings[\"geo\"][\"east\"] = 8.6\n",
    "internal_settings[\"geo\"][\"north\"] = 48.02\n",
    "\n",
    "internal_settings[\"geo\"][\"outputFormat\"] = \"GTiff\"\n",
    "\n",
    "# When the average difference of the given bounds to those of an existing geotiff image \n",
    "# is less than this threshold, the GeoTIFF is considered already existent. \n",
    "# This is to prevent another api call \n",
    "internal_settings[\"geo\"][\"tolerance\"] = 0.5 # In degrees. Could be set lower if the regions become very small\n",
    "\n",
    "internal_settings[\"fft\"] = {}\n",
    "internal_settings[\"fft\"][\"tile_size\"] = 1.75 # in km\n",
    "internal_settings[\"fft\"][\"tile_size\"] = 26.9 # in km JUST FOR TESTING REMOVE LATER\n",
    "\n",
    "internal_settings[\"files\"] = {}\n",
    "internal_settings[\"files\"][\"intermediary_folder\"] = \"intermediary\"\n",
    "\n",
    "# Important: Geotiffs have to have the extension \"TIF\" to be readable by google earth pro...x\n",
    "internal_settings[\"files\"][\"geotiff\"] = \"geotiff COORDINATES.tif\" \n",
    "\n",
    "\n",
    "# Generate temporary settings\n",
    "temporary_settings = {}\n",
    "\n",
    "temporary_settings[\"dem_coordinate_string\"] = \", \".join([f\"{internal_settings[\"geo\"][\"west\"]:05.1f}\",\n",
    "                                                         f\"{internal_settings[\"geo\"][\"south\"]:05.1f}\",\n",
    "                                                         f\"{internal_settings[\"geo\"][\"east\"]:05.1f}\",\n",
    "                                                         f\"{internal_settings[\"geo\"][\"north\"]:05.1f}\"])\n",
    "\n",
    "temporary_settings[\"dem_file_location\"] = os.path.join(internal_settings[\"files\"]\n",
    "                                                       [\"intermediary_folder\"],\n",
    "                                                       re.sub(r\"COORDINATES\", temporary_settings[\"dem_coordinate_string\"], internal_settings[\"files\"][\"geotiff\"]))\n",
    "\n",
    "temporary_settings[\"dem_already_existent\"] = False\n",
    "\n",
    "temporary_settings[\"dem_latitude_max\"] = max(abs(internal_settings[\"geo\"][\"south\"]), abs(internal_settings[\"geo\"][\"north\"]))\n",
    "temporary_settings[\"dem_latitude_min\"] = min(abs(internal_settings[\"geo\"][\"south\"]), abs(internal_settings[\"geo\"][\"north\"]))\n",
    "\n",
    "# Calculate the height of the DEM image in km\n",
    "temporary_settings[\"dem_size_height\"] = (abs(internal_settings[\"geo\"][\"south\"] - internal_settings[\"geo\"][\"north\"]) / 360.0) * math.pi * 2.0 * geod.b / 1000.0; \n",
    "\n",
    "# Calculate the DEM images width at the border that is closer to the equator\n",
    "temporary_settings[\"dem_size_width_max\"] = (abs(internal_settings[\"geo\"][\"west\"] - \n",
    "                                           internal_settings[\"geo\"][\"east\"]) / 360.0) * math.pi * 2.0 * geod.a * math.cos( math.radians(temporary_settings[\"dem_latitude_min\"])) / 1000.0 ; \n",
    "\n",
    "# Calculate the DEM images width at the border that is further from the equator\n",
    "temporary_settings[\"dem_size_width_min\"] = (abs(internal_settings[\"geo\"][\"west\"] - \n",
    "                                           internal_settings[\"geo\"][\"east\"]) / 360.0) *  math.pi * 2.0 * geod.a * math.cos(math.radians(temporary_settings[\"dem_latitude_max\"])) / 1000.0 ; \n"
   ]
  },
  {
   "cell_type": "code",
   "execution_count": 46,
   "id": "d4e55cec",
   "metadata": {},
   "outputs": [
    {
     "name": "stdout",
     "output_type": "stream",
     "text": [
      "{\n",
      "    \"dem_coordinate_string\": \"006.5, 046.9, 008.6, 048.0\",\n",
      "    \"dem_file_location\": \"intermediary/geotiff 006.5, 046.9, 008.6, 048.0.tif\",\n",
      "    \"dem_already_existent\": false,\n",
      "    \"dem_latitude_max\": 48.02,\n",
      "    \"dem_latitude_min\": 46.93,\n",
      "    \"dem_size_height\": 120.93142080290929,\n",
      "    \"dem_size_width_max\": 159.64015063229772,\n",
      "    \"dem_size_width_min\": 156.36263336254996\n",
      "}\n"
     ]
    }
   ],
   "source": [
    "print(json.dumps(temporary_settings, indent = 4))"
   ]
  },
  {
   "cell_type": "code",
   "execution_count": 81,
   "id": "356d9640",
   "metadata": {},
   "outputs": [
    {
     "name": "stdout",
     "output_type": "stream",
     "text": [
      "69.10366903023387\n",
      "0.014471011655871488\n",
      "0.10366903023387408\n",
      "0.0007500978724336428\n",
      "[3.75048936e-04 7.98560370e-03 2.24566154e-02 3.69276270e-02\n",
      " 5.13986387e-02 6.58696503e-02 8.03406620e-02 9.48116736e-02\n",
      " 1.09282685e-01 1.23753697e-01 1.38224709e-01 1.52695720e-01\n",
      " 1.67166732e-01 1.81637744e-01 1.96108755e-01 2.10579767e-01\n",
      " 2.25050779e-01 2.39521790e-01 2.53992802e-01 2.68463814e-01\n",
      " 2.82934825e-01 2.97405837e-01 3.11876848e-01 3.26347860e-01\n",
      " 3.40818872e-01 3.55289883e-01 3.69760895e-01 3.84231907e-01\n",
      " 3.98702918e-01 4.13173930e-01 4.27644942e-01 4.42115953e-01\n",
      " 4.56586965e-01 4.71057977e-01 4.85528988e-01 5.00000000e-01\n",
      " 5.14471012e-01 5.28942023e-01 5.43413035e-01 5.57884047e-01\n",
      " 5.72355058e-01 5.86826070e-01 6.01297082e-01 6.15768093e-01\n",
      " 6.30239105e-01 6.44710117e-01 6.59181128e-01 6.73652140e-01\n",
      " 6.88123152e-01 7.02594163e-01 7.17065175e-01 7.31536186e-01\n",
      " 7.46007198e-01 7.60478210e-01 7.74949221e-01 7.89420233e-01\n",
      " 8.03891245e-01 8.18362256e-01 8.32833268e-01 8.47304280e-01\n",
      " 8.61775291e-01 8.76246303e-01 8.90717315e-01 9.05188326e-01\n",
      " 9.19659338e-01 9.34130350e-01 9.48601361e-01 9.63072373e-01\n",
      " 9.77543385e-01 9.92014396e-01 9.99624951e-01]\n"
     ]
    }
   ],
   "source": [
    "\n",
    "num_tiles_y = temporary_settings[\"dem_size_height\"] / internal_settings[\"fft\"][\"tile_size\"]\n",
    "print(num_tiles_y)\n",
    "\n",
    "relative_size_y = 1 / num_tiles_y\n",
    "print(relative_size_y)\n",
    "\n",
    "rest_tiles_y = num_tiles_y % 1;\n",
    "print(rest_tiles_y)\n",
    "\n",
    "relative_start_y = (rest_tiles_y / 2) / num_tiles_y\n",
    "print(relative_start_y)\n",
    "\n",
    "relative_end_y = 1 - relative_start_y\n",
    "\n",
    "firstrow_center = np.array([relative_start_y / 2])\n",
    "\n",
    "lastrow_center = np.array([1 - (relative_start_y / 2)])\n",
    "\n",
    "all_other_rows_center = np.linspace(relative_start_y + (relative_size_y / 2), relative_end_y - (relative_size_y / 2), math.floor(num_tiles_y), endpoint=True)\n",
    "\n",
    "\n",
    "allrows_centers = np.concatenate((firstrow_center, all_other_rows_center, lastrow_center))\n",
    "\n",
    "print(allrows_centers)\n"
   ]
  },
  {
   "cell_type": "code",
   "execution_count": 87,
   "id": "bc9239c6",
   "metadata": {},
   "outputs": [
    {
     "data": {
      "text/plain": [
       "array([48.0195912 , 48.01129569, 47.99552229, 47.97974889, 47.96397548,\n",
       "       47.94820208, 47.93242868, 47.91665528, 47.90088187, 47.88510847,\n",
       "       47.86933507, 47.85356166, 47.83778826, 47.82201486, 47.80624146,\n",
       "       47.79046805, 47.77469465, 47.75892125, 47.74314785, 47.72737444,\n",
       "       47.71160104, 47.69582764, 47.68005424, 47.66428083, 47.64850743,\n",
       "       47.63273403, 47.61696062, 47.60118722, 47.58541382, 47.56964042,\n",
       "       47.55386701, 47.53809361, 47.52232021, 47.50654681, 47.4907734 ,\n",
       "       47.475     , 47.4592266 , 47.44345319, 47.42767979, 47.41190639,\n",
       "       47.39613299, 47.38035958, 47.36458618, 47.34881278, 47.33303938,\n",
       "       47.31726597, 47.30149257, 47.28571917, 47.26994576, 47.25417236,\n",
       "       47.23839896, 47.22262556, 47.20685215, 47.19107875, 47.17530535,\n",
       "       47.15953195, 47.14375854, 47.12798514, 47.11221174, 47.09643834,\n",
       "       47.08066493, 47.06489153, 47.04911813, 47.03334472, 47.01757132,\n",
       "       47.00179792, 46.98602452, 46.97025111, 46.95447771, 46.93870431,\n",
       "       46.9304088 ])"
      ]
     },
     "execution_count": 87,
     "metadata": {},
     "output_type": "execute_result"
    }
   ],
   "source": [
    "np.interp(allrows_centers,[0,1],[internal_settings[\"geo\"][\"north\"],internal_settings[\"geo\"][\"south\"]])"
   ]
  },
  {
   "cell_type": "code",
   "execution_count": 5,
   "id": "10008c69",
   "metadata": {},
   "outputs": [
    {
     "name": "stdout",
     "output_type": "stream",
     "text": [
      "[]\n"
     ]
    }
   ],
   "source": [
    "# Check all tif-files inside the intermediary folder\n",
    "\n",
    "temporary_settings[\"existent_files\"] = []\n",
    "\n",
    "with os.scandir(internal_settings[\"files\"][\"intermediary_folder\"]) as dirlist:\n",
    "    temporary_settings[\"existent_files\"] = [file.path for file in dirlist if re.search(r\"(?i)\\.tif\", file.name)]\n",
    "\n",
    "print ( temporary_settings[\"existent_files\"] )\n",
    "\n"
   ]
  },
  {
   "cell_type": "code",
   "execution_count": 6,
   "id": "0b7e20e6",
   "metadata": {},
   "outputs": [],
   "source": [
    "# Before calling the api again, we should check if there’s a file existing that is exactly like the query \n",
    "for file in temporary_settings[\"existent_files\"]:\n",
    "    with rasterio.open(file) as src:\n",
    "        average_error = (abs(src.bounds.left - internal_settings[\"geo\"][\"west\"]) + abs(src.bounds.right - internal_settings[\"geo\"][\"east\"]) + abs(src.bounds.top - internal_settings[\"geo\"][\"north\"]) + abs(src.bounds.bottom - internal_settings[\"geo\"][\"south\"])) / 4\n",
    "\n",
    "        if average_error < internal_settings[\"geo\"][\"tolerance\"]: temporary_settings[\"dem_already_existent\"] = True"
   ]
  },
  {
   "cell_type": "code",
   "execution_count": 7,
   "id": "235d5769",
   "metadata": {},
   "outputs": [],
   "source": [
    "# Get the API key into the request data\n",
    "api_call_data = json.loads(json.dumps(internal_settings[\"geo\"]))\n",
    "api_call_data.update({\"API_Key\": external_settings[\"opentopo_api_key\"]})\n"
   ]
  },
  {
   "cell_type": "code",
   "execution_count": 8,
   "id": "9e7c9640",
   "metadata": {},
   "outputs": [],
   "source": [
    "if temporary_settings[\"dem_already_existent\"]:\n",
    "        print(\"Comparable DEM file already exists, skipping API call.\")\n",
    "else:\n",
    "    response = requests.get(\"https://portal.opentopography.org/API/globaldem\", params=api_call_data)\n",
    "    with open(temporary_settings[\"dem_file_location\"], \"wb\") as file:\n",
    "        file.write(response.content)\n"
   ]
  },
  {
   "cell_type": "markdown",
   "id": "d3ec181b",
   "metadata": {},
   "source": [
    "# Aufteilen\n",
    "Die DEM Daten in Kacheln aufteilen, die 100 km groß sind"
   ]
  },
  {
   "cell_type": "code",
   "execution_count": null,
   "id": "75db2915",
   "metadata": {},
   "outputs": [],
   "source": [
    "# How to make the GeoTIFF images usable by my algorithm:\n",
    "# It’s important to note, that the original DEM data is in arc seconds\n",
    "# To avoid skewed results it has to be compressed by cos(latitude) in width\n",
    "# That way the metric distances (almost) resemble the distances pixel-wise\n",
    "\n",
    "# After that the images will be scaled to 1/4 (as of now), because processing \n",
    "# becomes about 4^2 times faster.\n",
    "\n",
    "# Before processing, the data will have to be split up into quadratic tiles\n",
    "# which are supposed to be equal in their length.\n",
    "\n",
    "# I guess we should combine the processes, namely selecting tiles of equal size\n",
    "# and then reducing their size to a given size in pixels"
   ]
  },
  {
   "cell_type": "code",
   "execution_count": null,
   "id": "f0b14375",
   "metadata": {},
   "outputs": [],
   "source": []
  },
  {
   "cell_type": "code",
   "execution_count": null,
   "id": "1e854f6b",
   "metadata": {},
   "outputs": [],
   "source": []
  }
 ],
 "metadata": {
  "kernelspec": {
   "display_name": "base",
   "language": "python",
   "name": "python3"
  },
  "language_info": {
   "codemirror_mode": {
    "name": "ipython",
    "version": 3
   },
   "file_extension": ".py",
   "mimetype": "text/x-python",
   "name": "python",
   "nbconvert_exporter": "python",
   "pygments_lexer": "ipython3",
   "version": "3.12.7"
  }
 },
 "nbformat": 4,
 "nbformat_minor": 5
}
