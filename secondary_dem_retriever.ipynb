{
 "cells": [
  {
   "cell_type": "markdown",
   "id": "2316046b",
   "metadata": {},
   "source": [
    "# DEM Retriever\n",
    "\n",
    "This notebook is a secondary notebook, supposed to get the digital elevation model from opentopography.org\n",
    "\n",
    "## Getting DEM-Data from [opentopography](https://portal.opentopography.org/apidocs/#/Public/getGlobalDem)\n",
    "To run this notebook you will need a (free) API key from *opentopography.org*. \n",
    "I’ve got myself one and put it into the environment variables."
   ]
  },
  {
   "cell_type": "code",
   "execution_count": 1,
   "id": "d98255b8",
   "metadata": {},
   "outputs": [],
   "source": [
    "# All the imports\n",
    "\n",
    "# For getting the DEM-Data (from opentopography.org) \n",
    "import requests\n",
    "\n",
    "# Handling the API-Key (hidden from this repo)\n",
    "from dotenv import load_dotenv\n",
    "\n",
    "# Filesystem, JSON\n",
    "import os\n",
    "import json\n",
    "from io import BytesIO # To be able to route the API response to a file-like object that rasterio can use\n",
    "\n",
    "# Rasterio for handling GeoTIFFs\n",
    "import rasterio\n",
    "\n",
    "# Math may not be missing\n",
    "import math\n"
   ]
  },
  {
   "cell_type": "code",
   "execution_count": 2,
   "id": "dee984c5",
   "metadata": {},
   "outputs": [],
   "source": [
    "# Let this notebook load the API key from the .env file\n",
    "load_dotenv()\n",
    "\n",
    "# Create a dictionary for settings that are not saved\n",
    "external_settings = {}\n",
    "external_settings[\"opentopo_api_key\"] = os.getenv(\"OPENTOPO_API_KEY\")"
   ]
  },
  {
   "cell_type": "markdown",
   "id": "87d5b9ff",
   "metadata": {},
   "source": [
    "### Hint: API Key\n",
    "If you want to use your own API-Key, you’ll have to assign it in the following code block. Remember: You will have to get your own API key from opentopography.org to make this work."
   ]
  },
  {
   "cell_type": "code",
   "execution_count": 3,
   "id": "d3156870",
   "metadata": {},
   "outputs": [
    {
     "name": "stdout",
     "output_type": "stream",
     "text": [
      "352c27c644b3a6e0132002d187f75a57\n"
     ]
    }
   ],
   "source": [
    "\n",
    "# Hint! If you want to use your own API-Key, you’ll have to assign it here:\n",
    "# external_settings[\"opentopo_api_key\"]\n",
    "\n",
    "print(external_settings[\"opentopo_api_key\"])"
   ]
  },
  {
   "cell_type": "markdown",
   "id": "4e5c2743",
   "metadata": {},
   "source": [
    "## Getting the DEM-Data\n",
    "For this example we’ll use the EU_DTM dataset which is very accurate for europe and resembles bare earth heights."
   ]
  },
  {
   "cell_type": "code",
   "execution_count": null,
   "id": "b83ee1bf",
   "metadata": {},
   "outputs": [],
   "source": [
    "# Create a variable for settings that can later be saved as a JSON-file\n",
    "internal_settings = {}\n",
    "\n",
    "internal_settings[\"geo\"] = {}\n",
    "internal_settings[\"geo\"][\"demtype\"] = \"COP90\"\n",
    "internal_settings[\"geo\"][\"south\"] = 46.93\n",
    "internal_settings[\"geo\"][\"north\"] = 48.02\n",
    "internal_settings[\"geo\"][\"west\"] = 6.5\n",
    "internal_settings[\"geo\"][\"east\"] = 8.6\n",
    "internal_settings[\"geo\"][\"outputFormat\"] = \"GTiff\"\n",
    "\n",
    "# When the average difference of the given bounds to those of an existing geotiff image \n",
    "# is less than this threshold, the GeoTIFF is considered already existent. \n",
    "# This is to prevent another api call \n",
    "internal_settings[\"geo\"][\"tolerance\"] = 0.5 # In degrees. Could be set lower if the regions become very small\n",
    "\n",
    "internal_settings[\"files\"] = {}\n",
    "internal_settings[\"files\"][\"intermediary_folder\"] = \"intermediary\"\n",
    "\n",
    "# Important: Geotiffs have to have the extension \"TIF\" to be readable by google earth pro...x\n",
    "internal_settings[\"files\"][\"geotiff\"] = \"geotiff.tif\" \n",
    "\n",
    "\n",
    "# Generate temporary settings\n",
    "temporary_settings = {}\n",
    "temporary_settings[\"dem_file_location\"] = os.path.join(internal_settings[\"files\"]\n",
    "                                                       [\"intermediary_folder\"],\n",
    "                                                       internal_settings[\"files\"][\"geotiff\"])\n",
    "\n",
    "temporary_settings[\"dem_already_existent\"] = False\n"
   ]
  },
  {
   "cell_type": "code",
   "execution_count": null,
   "id": "0b7e20e6",
   "metadata": {},
   "outputs": [],
   "source": [
    "# Before calling the api again, we should check if there’s a file existing that is exactly like the query \n",
    "if os.path.exists(temporary_settings[\"dem_file_location\"]):\n",
    "    with rasterio.open(temporary_settings[\"dem_file_location\"]) as src:\n",
    "        average_error = (abs(src.bounds.left - internal_settings[\"geo\"][\"west\"]) + abs(src.bounds.right - internal_settings[\"geo\"][\"east\"]) + abs(src.bounds.top - internal_settings[\"geo\"][\"north\"]) + abs(src.bounds.bottom - internal_settings[\"geo\"][\"south\"])) / 4\n",
    "\n",
    "        if average_error < internal_settings[\"geo\"][\"tolerance\"]: temporary_settings[\"dem_already_existent\"] = True"
   ]
  },
  {
   "cell_type": "code",
   "execution_count": 6,
   "id": "235d5769",
   "metadata": {},
   "outputs": [],
   "source": [
    "# Get the API key into the request data\n",
    "api_call_data = json.loads(json.dumps(internal_settings[\"geo\"]))\n",
    "api_call_data.update({\"API_Key\": external_settings[\"opentopo_api_key\"]})\n"
   ]
  },
  {
   "cell_type": "code",
   "execution_count": null,
   "id": "9e7c9640",
   "metadata": {},
   "outputs": [
    {
     "name": "stdout",
     "output_type": "stream",
     "text": [
      "Comparable DEM file already exists, skipping API call.\n"
     ]
    }
   ],
   "source": [
    "if temporary_settings[\"dem_already_existent\"]:\n",
    "        print(\"Comparable DEM file already exists, skipping API call.\")\n",
    "else:\n",
    "    response = requests.get(\"https://portal.opentopography.org/API/globaldem\", params=api_call_data)\n",
    "    with open(temporary_settings[\"dem_file_location\"], \"wb\") as file:\n",
    "        file.write(response.content)\n"
   ]
  },
  {
   "cell_type": "markdown",
   "id": "d3ec181b",
   "metadata": {},
   "source": [
    "# Aufteilen\n",
    "Die DEM Daten in Kacheln aufteilen, die 100 km groß sind"
   ]
  },
  {
   "cell_type": "code",
   "execution_count": null,
   "id": "75db2915",
   "metadata": {},
   "outputs": [],
   "source": []
  },
  {
   "cell_type": "code",
   "execution_count": null,
   "id": "1e854f6b",
   "metadata": {},
   "outputs": [],
   "source": []
  }
 ],
 "metadata": {
  "kernelspec": {
   "display_name": "base",
   "language": "python",
   "name": "python3"
  },
  "language_info": {
   "codemirror_mode": {
    "name": "ipython",
    "version": 3
   },
   "file_extension": ".py",
   "mimetype": "text/x-python",
   "name": "python",
   "nbconvert_exporter": "python",
   "pygments_lexer": "ipython3",
   "version": "3.12.7"
  }
 },
 "nbformat": 4,
 "nbformat_minor": 5
}
