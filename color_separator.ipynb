{
 "cells": [
  {
   "cell_type": "markdown",
   "id": "99729bd5",
   "metadata": {},
   "source": [
    "# Color separator\n",
    "This one is a helper notebook (and rather a scrapbook to be honest).\n",
    "\n",
    "## What it does: \n",
    "It takes a color string (made up of hex values) and sorts it in a way that the color\n",
    "after the previous color is always most different to that. \n",
    "It starts with the first color in the list."
   ]
  },
  {
   "cell_type": "code",
   "execution_count": null,
   "id": "f634cec4",
   "metadata": {},
   "outputs": [
    {
     "name": "stdout",
     "output_type": "stream",
     "text": [
      "(11, 3)\n"
     ]
    }
   ],
   "source": [
    "import numpy as np\n",
    "import re\n",
    "\n",
    "colorstring = [\n",
    "            \"#053608\" ,\n",
    "            \"#1c5532\" ,\n",
    "            \"#404383\" ,\n",
    "            \"#759d7c\" ,\n",
    "            \"#9395a3\" ,\n",
    "            \"#2c7eb5\" ,\n",
    "            \"#b9c5d6\" ,\n",
    "            \"#90f3d0\" ,\n",
    "            \"#62f8ee\" ,\n",
    "            \"#bdf2e6\" ,\n",
    "            \"#ffba20\" \n",
    "        ]\n",
    "\n",
    "\n",
    "def color_to_numpy(stringlist):\n",
    "    colorlist = []\n",
    "\n",
    "    for string in stringlist:\n",
    "        removed_hashtag = re.search(r\"(?i)([a-f0-9]+)\", string).group(0)\n",
    "        color = np.array((int(removed_hashtag[0:2],16),\n",
    "                        int(removed_hashtag[2:4],16),\n",
    "                        int(removed_hashtag[4:6],16)))\n",
    "        colorlist.append(color)\n",
    "\n",
    "    colorlist = np.array(colorlist)    \n",
    "    \n",
    "    return colorlist\n",
    "\n",
    "print(color_to_numpy(colorstring).shape)\n",
    "\n"
   ]
  },
  {
   "cell_type": "code",
   "execution_count": null,
   "id": "9d2fa659",
   "metadata": {},
   "outputs": [
    {
     "name": "stdout",
     "output_type": "stream",
     "text": [
      "[array([ 5, 54,  8]), array([189, 242, 230]), array([28, 85, 50]), array([ 98, 248, 238]), array([255, 186,  32]), array([ 44, 126, 181]), array([185, 197, 214]), array([ 64,  67, 131]), array([144, 243, 208]), array([117, 157, 124]), array([147, 149, 163])]\n",
      "\"#053608\" ,\n",
      "\"#bdf2e6\" ,\n",
      "\"#1c5532\" ,\n",
      "\"#62f8ee\" ,\n",
      "\"#ffba20\" ,\n",
      "\"#2c7eb5\" ,\n",
      "\"#b9c5d6\" ,\n",
      "\"#404383\" ,\n",
      "\"#90f3d0\" ,\n",
      "\"#759d7c\" ,\n",
      "\"#9395a3\" ,\n"
     ]
    }
   ],
   "source": [
    "\n",
    "def most_distant_colors(colorstring):\n",
    "\n",
    "    found_colors = color_to_numpy(colorstring)    \n",
    "    num_colors = len(found_colors)\n",
    "    distances = np.zeros((num_colors, num_colors))\n",
    "    for i in range(num_colors):\n",
    "        for j in range(num_colors):\n",
    "            distances[i,j] = np.linalg.norm(found_colors[i] - found_colors[j])\n",
    "\n",
    "    ordered_list_indices = [0]\n",
    "    remaining_list_indices = set(range(1,num_colors))\n",
    "\n",
    "    while remaining_list_indices:\n",
    "        previous_item = ordered_list_indices[-1]\n",
    "        next_item = max(remaining_list_indices, key=lambda x: distances[previous_item][x])\n",
    "\n",
    "        ordered_list_indices.append(next_item)\n",
    "        remaining_list_indices.remove(next_item)\n",
    "\n",
    "    return [found_colors[i] for i in ordered_list_indices]\n",
    "\n",
    "print(most_distant_colors(colorstring))\n",
    "\n",
    "def return_colors_hex(colorlist):\n",
    "    for c in colorlist:\n",
    "        hexlist = [f\"{rgb:#04x}\"[2:] for rgb in c]\n",
    "        colorcode = f\"\\\"#{hexlist[0]}{hexlist[1]}{hexlist[2]}\\\" ,\"\n",
    "        print(colorcode)\n",
    "\n",
    "# It spits out a code snipped to be copied into the main notebook\n",
    "return_colors_hex(most_distant_colors(colorstring))"
   ]
  }
 ],
 "metadata": {
  "kernelspec": {
   "display_name": "base",
   "language": "python",
   "name": "python3"
  },
  "language_info": {
   "codemirror_mode": {
    "name": "ipython",
    "version": 3
   },
   "file_extension": ".py",
   "mimetype": "text/x-python",
   "name": "python",
   "nbconvert_exporter": "python",
   "pygments_lexer": "ipython3",
   "version": "3.12.7"
  }
 },
 "nbformat": 4,
 "nbformat_minor": 5
}
